{
 "cells": [
  {
   "metadata": {},
   "cell_type": "markdown",
   "source": "",
   "id": "6d8fefb12c29b4f2"
  },
  {
   "cell_type": "code",
   "id": "initial_id",
   "metadata": {
    "collapsed": true,
    "ExecuteTime": {
     "end_time": "2024-05-09T23:07:43.801975Z",
     "start_time": "2024-05-09T23:07:43.797135Z"
    }
   },
   "source": [
    "#Заданные величины\n",
    "U_m = 4.4\n",
    "R_n = 0.55 * 10**3\n",
    "R_g = 1.3 * 10**3\n",
    "dT = 60\n",
    "h_fe = (40, 120)\n",
    "#Номинальный ряд\n",
    "E24 = (10, 11, 12, 13, 15, 16, 18, 20, 22, 24, 27, 30, 33, 36, 39, 43, 47, 51, 56, 62, 68, 75, 82, 91)"
   ],
   "outputs": [],
   "execution_count": 30
  },
  {
   "metadata": {},
   "cell_type": "markdown",
   "source": "# Пункт 4",
   "id": "309fa8bde0c248aa"
  },
  {
   "metadata": {
    "ExecuteTime": {
     "end_time": "2024-05-09T23:07:43.833033Z",
     "start_time": "2024-05-09T23:07:43.830040Z"
    }
   },
   "cell_type": "code",
   "source": [
    "#Рабочая точка\n",
    "dU_n = 1\n",
    "dU_t = 1\n",
    "U_ke = 7\n",
    "I_k = 24 * 10**-3\n",
    "E_p = 20\n",
    "print(U_ke, I_k* 10**3, E_p) "
   ],
   "id": "95e073df4d98f780",
   "outputs": [
    {
     "name": "stdout",
     "output_type": "stream",
     "text": [
      "7 24.0 20\n"
     ]
    }
   ],
   "execution_count": 31
  },
  {
   "metadata": {},
   "cell_type": "markdown",
   "source": "# Пункт 5",
   "id": "8a60deb6727e9cfb"
  },
  {
   "metadata": {
    "ExecuteTime": {
     "end_time": "2024-05-09T23:07:43.842977Z",
     "start_time": "2024-05-09T23:07:43.834041Z"
    }
   },
   "cell_type": "code",
   "source": [
    "R_dc = (E_p-abs(U_ke))/I_k\n",
    "for n in E24:\n",
    "    if R_dc < n*10:\n",
    "        R_e = n*10\n",
    "        break\n",
    "R_ac = R_e*R_n/(R_e+R_n)\n",
    "print(R_dc, R_e)"
   ],
   "id": "3a96ddf74b1b9121",
   "outputs": [
    {
     "name": "stdout",
     "output_type": "stream",
     "text": [
      "541.6666666666666 560\n"
     ]
    }
   ],
   "execution_count": 32
  },
  {
   "metadata": {},
   "cell_type": "markdown",
   "source": "# Пункт 6\n",
   "id": "de0645b93907a9ed"
  },
  {
   "metadata": {
    "ExecuteTime": {
     "end_time": "2024-05-09T23:07:43.853349Z",
     "start_time": "2024-05-09T23:07:43.844982Z"
    }
   },
   "cell_type": "code",
   "source": [
    "dI_k = dU_t/R_e\n",
    "xi = 1.8*10**-3\n",
    "beta = (h_fe[1]+h_fe[0])/2\n",
    "dbeta = h_fe[1]-beta\n",
    "I_b = I_k/beta\n",
    "R_b = (beta*(dI_k*R_e-xi*dT))/(I_b*dbeta-dI_k) - R_e\n",
    "print(dI_k * 10**3)\n",
    "\n",
    "I_e = I_b + I_k\n",
    "\n",
    "R1 = E_p/(I_e*R_e) * R_b\n",
    "R2 = R_b*R1/(R1-R_b)\n",
    "print(R1, R2)\n",
    "for n in E24:\n",
    "    if R1/1000 not in E24 and R1 < n*10**3:\n",
    "        R1 = n*10**3\n",
    "    if R2/1000 not in E24 and R2 < n*10**3:\n",
    "        R2 = n*10**3\n",
    "print(R1, R2)"
   ],
   "id": "f8ff005e5c94c03e",
   "outputs": [
    {
     "name": "stdout",
     "output_type": "stream",
     "text": [
      "1.7857142857142856\n",
      "9444.876111542777 20107.301959617358\n",
      "10000 22000\n"
     ]
    }
   ],
   "execution_count": 33
  },
  {
   "metadata": {},
   "cell_type": "markdown",
   "source": "# Пункт 7",
   "id": "69e602f78ce75a63"
  },
  {
   "metadata": {
    "ExecuteTime": {
     "end_time": "2024-05-09T23:07:43.862805Z",
     "start_time": "2024-05-09T23:07:43.854355Z"
    }
   },
   "cell_type": "code",
   "source": [
    "U_be = -0.7\n",
    "E_b = E_p * R2/(R1+R2)\n",
    "I_b = (E_b-U_be)/(R_b+(1+beta)*R_e)\n",
    "I_k = beta*I_b\n",
    "I_e = I_k + I_b\n",
    "U_ke = E_p - I_e*R_e\n",
    "print(U_be, I_b * 10**6, U_ke, I_k * 10**3)"
   ],
   "id": "3c0db49658a89bcf",
   "outputs": [
    {
     "name": "stdout",
     "output_type": "stream",
     "text": [
      "-0.7 279.03136072940976 7.343137477313974 22.32250885835278\n"
     ]
    }
   ],
   "execution_count": 34
  },
  {
   "metadata": {
    "ExecuteTime": {
     "end_time": "2024-05-09T23:07:43.865820Z",
     "start_time": "2024-05-09T23:07:43.863813Z"
    }
   },
   "cell_type": "code",
   "source": "",
   "id": "830b5094d9840e0b",
   "outputs": [],
   "execution_count": 34
  }
 ],
 "metadata": {
  "kernelspec": {
   "display_name": "Python 3",
   "language": "python",
   "name": "python3"
  },
  "language_info": {
   "codemirror_mode": {
    "name": "ipython",
    "version": 2
   },
   "file_extension": ".py",
   "mimetype": "text/x-python",
   "name": "python",
   "nbconvert_exporter": "python",
   "pygments_lexer": "ipython2",
   "version": "2.7.6"
  }
 },
 "nbformat": 4,
 "nbformat_minor": 5
}
